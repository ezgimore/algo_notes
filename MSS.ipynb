{
 "cells": [
  {
   "cell_type": "markdown",
   "metadata": {},
   "source": [
    "# Dynamic Programming\n",
    "## Maximum Subarray Sum\n",
    "\n",
    "MSS works by calculating the MSS of the subarray that ends at index i (the current index). This subarray is then used to calculate the MSS of the next index i+1. At each iteration, MSS[i] = max(original_array[i], original_array[i] + MSS[i-1]). The final answer is the max value of MSS at any index. Below you can see the progress of MSS through an array and the final selection."
   ]
  },
  {
   "cell_type": "code",
   "execution_count": 3,
   "metadata": {},
   "outputs": [],
   "source": [
    "import numpy as np\n",
    "import pandas as pd\n",
    "\n",
    "def style_specific_cell(df, row, col, c):\n",
    "    df_styler = pd.DataFrame('', index = df.index, columns = df.columns)\n",
    "    df_styler.iloc[row, col] = 'color: black;background-color: ' + c\n",
    "    return df_styler\n",
    "\n",
    "def style_specific_col(df, col, c):\n",
    "    df_styler = pd.DataFrame('', index = df.index, columns = df.columns)\n",
    "    df_styler.iloc[:,col] = 'background-color: ' + c\n",
    "    return df_styler\n",
    "\n",
    "def style_mss(df, row, col):\n",
    "    df_styler = pd.DataFrame('', index = df.index, columns = df.columns)\n",
    "    df_styler.iloc[row, col] = 'color: black; background-color: turquoise'\n",
    "    df_styler.iloc[row-1, col] = 'color: black; background-color: paleturquoise'\n",
    "    df_styler.iloc[row, col-1] = 'color: black; background-color: paleturquoise'\n",
    "    return df_styler"
   ]
  },
  {
   "cell_type": "code",
   "execution_count": 4,
   "metadata": {},
   "outputs": [],
   "source": [
    "#nice way of doing MSS. isn't used for displaying\n",
    "def MSS(df):\n",
    "    mss = [df.iloc[0, 0]] + [0]*df.size\n",
    "    mss = [max(df.iloc[0, i], df.iloc[0, i] + mss[i-1]) for i in range(1, df.size)]\n",
    "    mss.insert(0, df.iloc[0, 0])\n",
    "    return mss\n",
    "\n",
    "#mss = MSS(df)\n",
    "#print(mss)"
   ]
  },
  {
   "cell_type": "code",
   "execution_count": 5,
   "metadata": {},
   "outputs": [
    {
     "data": {
      "text/html": [
       "<style type=\"text/css\">\n",
       "#T_a5512_row0_col1, #T_a5512_row1_col0 {\n",
       "  color: black;\n",
       "  background-color: paleturquoise;\n",
       "}\n",
       "#T_a5512_row1_col1 {\n",
       "  color: black;\n",
       "  background-color: turquoise;\n",
       "}\n",
       "</style>\n",
       "<table id=\"T_a5512\">\n",
       "  <thead>\n",
       "    <tr>\n",
       "      <th id=\"T_a5512_level0_col0\" class=\"col_heading level0 col0\" >0</th>\n",
       "      <th id=\"T_a5512_level0_col1\" class=\"col_heading level0 col1\" >1</th>\n",
       "      <th id=\"T_a5512_level0_col2\" class=\"col_heading level0 col2\" >2</th>\n",
       "      <th id=\"T_a5512_level0_col3\" class=\"col_heading level0 col3\" >3</th>\n",
       "      <th id=\"T_a5512_level0_col4\" class=\"col_heading level0 col4\" >4</th>\n",
       "      <th id=\"T_a5512_level0_col5\" class=\"col_heading level0 col5\" ></th>\n",
       "    </tr>\n",
       "  </thead>\n",
       "  <tbody>\n",
       "    <tr>\n",
       "      <td id=\"T_a5512_row0_col0\" class=\"data row0 col0\" >7</td>\n",
       "      <td id=\"T_a5512_row0_col1\" class=\"data row0 col1\" >8</td>\n",
       "      <td id=\"T_a5512_row0_col2\" class=\"data row0 col2\" >5</td>\n",
       "      <td id=\"T_a5512_row0_col3\" class=\"data row0 col3\" >2</td>\n",
       "      <td id=\"T_a5512_row0_col4\" class=\"data row0 col4\" >-1</td>\n",
       "      <td id=\"T_a5512_row0_col5\" class=\"data row0 col5\" >original array</td>\n",
       "    </tr>\n",
       "    <tr>\n",
       "      <td id=\"T_a5512_row1_col0\" class=\"data row1 col0\" >7</td>\n",
       "      <td id=\"T_a5512_row1_col1\" class=\"data row1 col1\" >15</td>\n",
       "      <td id=\"T_a5512_row1_col2\" class=\"data row1 col2\" >0</td>\n",
       "      <td id=\"T_a5512_row1_col3\" class=\"data row1 col3\" >0</td>\n",
       "      <td id=\"T_a5512_row1_col4\" class=\"data row1 col4\" >0</td>\n",
       "      <td id=\"T_a5512_row1_col5\" class=\"data row1 col5\" >mss progress</td>\n",
       "    </tr>\n",
       "  </tbody>\n",
       "</table>\n"
      ],
      "text/plain": [
       "<pandas.io.formats.style.Styler at 0x27cf9428b50>"
      ]
     },
     "metadata": {},
     "output_type": "display_data"
    },
    {
     "data": {
      "text/html": [
       "<style type=\"text/css\">\n",
       "#T_ba885_row0_col2, #T_ba885_row1_col1 {\n",
       "  color: black;\n",
       "  background-color: paleturquoise;\n",
       "}\n",
       "#T_ba885_row1_col2 {\n",
       "  color: black;\n",
       "  background-color: turquoise;\n",
       "}\n",
       "</style>\n",
       "<table id=\"T_ba885\">\n",
       "  <thead>\n",
       "    <tr>\n",
       "      <th id=\"T_ba885_level0_col0\" class=\"col_heading level0 col0\" >0</th>\n",
       "      <th id=\"T_ba885_level0_col1\" class=\"col_heading level0 col1\" >1</th>\n",
       "      <th id=\"T_ba885_level0_col2\" class=\"col_heading level0 col2\" >2</th>\n",
       "      <th id=\"T_ba885_level0_col3\" class=\"col_heading level0 col3\" >3</th>\n",
       "      <th id=\"T_ba885_level0_col4\" class=\"col_heading level0 col4\" >4</th>\n",
       "      <th id=\"T_ba885_level0_col5\" class=\"col_heading level0 col5\" ></th>\n",
       "    </tr>\n",
       "  </thead>\n",
       "  <tbody>\n",
       "    <tr>\n",
       "      <td id=\"T_ba885_row0_col0\" class=\"data row0 col0\" >7</td>\n",
       "      <td id=\"T_ba885_row0_col1\" class=\"data row0 col1\" >8</td>\n",
       "      <td id=\"T_ba885_row0_col2\" class=\"data row0 col2\" >5</td>\n",
       "      <td id=\"T_ba885_row0_col3\" class=\"data row0 col3\" >2</td>\n",
       "      <td id=\"T_ba885_row0_col4\" class=\"data row0 col4\" >-1</td>\n",
       "      <td id=\"T_ba885_row0_col5\" class=\"data row0 col5\" >original array</td>\n",
       "    </tr>\n",
       "    <tr>\n",
       "      <td id=\"T_ba885_row1_col0\" class=\"data row1 col0\" >7</td>\n",
       "      <td id=\"T_ba885_row1_col1\" class=\"data row1 col1\" >15</td>\n",
       "      <td id=\"T_ba885_row1_col2\" class=\"data row1 col2\" >20</td>\n",
       "      <td id=\"T_ba885_row1_col3\" class=\"data row1 col3\" >0</td>\n",
       "      <td id=\"T_ba885_row1_col4\" class=\"data row1 col4\" >0</td>\n",
       "      <td id=\"T_ba885_row1_col5\" class=\"data row1 col5\" >mss progress</td>\n",
       "    </tr>\n",
       "  </tbody>\n",
       "</table>\n"
      ],
      "text/plain": [
       "<pandas.io.formats.style.Styler at 0x27cf93f1a60>"
      ]
     },
     "metadata": {},
     "output_type": "display_data"
    },
    {
     "data": {
      "text/html": [
       "<style type=\"text/css\">\n",
       "#T_79686_row0_col3, #T_79686_row1_col2 {\n",
       "  color: black;\n",
       "  background-color: paleturquoise;\n",
       "}\n",
       "#T_79686_row1_col3 {\n",
       "  color: black;\n",
       "  background-color: turquoise;\n",
       "}\n",
       "</style>\n",
       "<table id=\"T_79686\">\n",
       "  <thead>\n",
       "    <tr>\n",
       "      <th id=\"T_79686_level0_col0\" class=\"col_heading level0 col0\" >0</th>\n",
       "      <th id=\"T_79686_level0_col1\" class=\"col_heading level0 col1\" >1</th>\n",
       "      <th id=\"T_79686_level0_col2\" class=\"col_heading level0 col2\" >2</th>\n",
       "      <th id=\"T_79686_level0_col3\" class=\"col_heading level0 col3\" >3</th>\n",
       "      <th id=\"T_79686_level0_col4\" class=\"col_heading level0 col4\" >4</th>\n",
       "      <th id=\"T_79686_level0_col5\" class=\"col_heading level0 col5\" ></th>\n",
       "    </tr>\n",
       "  </thead>\n",
       "  <tbody>\n",
       "    <tr>\n",
       "      <td id=\"T_79686_row0_col0\" class=\"data row0 col0\" >7</td>\n",
       "      <td id=\"T_79686_row0_col1\" class=\"data row0 col1\" >8</td>\n",
       "      <td id=\"T_79686_row0_col2\" class=\"data row0 col2\" >5</td>\n",
       "      <td id=\"T_79686_row0_col3\" class=\"data row0 col3\" >2</td>\n",
       "      <td id=\"T_79686_row0_col4\" class=\"data row0 col4\" >-1</td>\n",
       "      <td id=\"T_79686_row0_col5\" class=\"data row0 col5\" >original array</td>\n",
       "    </tr>\n",
       "    <tr>\n",
       "      <td id=\"T_79686_row1_col0\" class=\"data row1 col0\" >7</td>\n",
       "      <td id=\"T_79686_row1_col1\" class=\"data row1 col1\" >15</td>\n",
       "      <td id=\"T_79686_row1_col2\" class=\"data row1 col2\" >20</td>\n",
       "      <td id=\"T_79686_row1_col3\" class=\"data row1 col3\" >22</td>\n",
       "      <td id=\"T_79686_row1_col4\" class=\"data row1 col4\" >0</td>\n",
       "      <td id=\"T_79686_row1_col5\" class=\"data row1 col5\" >mss progress</td>\n",
       "    </tr>\n",
       "  </tbody>\n",
       "</table>\n"
      ],
      "text/plain": [
       "<pandas.io.formats.style.Styler at 0x27cf9428b50>"
      ]
     },
     "metadata": {},
     "output_type": "display_data"
    },
    {
     "data": {
      "text/html": [
       "<style type=\"text/css\">\n",
       "#T_6c8e4_row0_col4, #T_6c8e4_row1_col3 {\n",
       "  color: black;\n",
       "  background-color: paleturquoise;\n",
       "}\n",
       "#T_6c8e4_row1_col4 {\n",
       "  color: black;\n",
       "  background-color: turquoise;\n",
       "}\n",
       "</style>\n",
       "<table id=\"T_6c8e4\">\n",
       "  <thead>\n",
       "    <tr>\n",
       "      <th id=\"T_6c8e4_level0_col0\" class=\"col_heading level0 col0\" >0</th>\n",
       "      <th id=\"T_6c8e4_level0_col1\" class=\"col_heading level0 col1\" >1</th>\n",
       "      <th id=\"T_6c8e4_level0_col2\" class=\"col_heading level0 col2\" >2</th>\n",
       "      <th id=\"T_6c8e4_level0_col3\" class=\"col_heading level0 col3\" >3</th>\n",
       "      <th id=\"T_6c8e4_level0_col4\" class=\"col_heading level0 col4\" >4</th>\n",
       "      <th id=\"T_6c8e4_level0_col5\" class=\"col_heading level0 col5\" ></th>\n",
       "    </tr>\n",
       "  </thead>\n",
       "  <tbody>\n",
       "    <tr>\n",
       "      <td id=\"T_6c8e4_row0_col0\" class=\"data row0 col0\" >7</td>\n",
       "      <td id=\"T_6c8e4_row0_col1\" class=\"data row0 col1\" >8</td>\n",
       "      <td id=\"T_6c8e4_row0_col2\" class=\"data row0 col2\" >5</td>\n",
       "      <td id=\"T_6c8e4_row0_col3\" class=\"data row0 col3\" >2</td>\n",
       "      <td id=\"T_6c8e4_row0_col4\" class=\"data row0 col4\" >-1</td>\n",
       "      <td id=\"T_6c8e4_row0_col5\" class=\"data row0 col5\" >original array</td>\n",
       "    </tr>\n",
       "    <tr>\n",
       "      <td id=\"T_6c8e4_row1_col0\" class=\"data row1 col0\" >7</td>\n",
       "      <td id=\"T_6c8e4_row1_col1\" class=\"data row1 col1\" >15</td>\n",
       "      <td id=\"T_6c8e4_row1_col2\" class=\"data row1 col2\" >20</td>\n",
       "      <td id=\"T_6c8e4_row1_col3\" class=\"data row1 col3\" >22</td>\n",
       "      <td id=\"T_6c8e4_row1_col4\" class=\"data row1 col4\" >21</td>\n",
       "      <td id=\"T_6c8e4_row1_col5\" class=\"data row1 col5\" >mss progress</td>\n",
       "    </tr>\n",
       "  </tbody>\n",
       "</table>\n"
      ],
      "text/plain": [
       "<pandas.io.formats.style.Styler at 0x27cf9428a00>"
      ]
     },
     "metadata": {},
     "output_type": "display_data"
    },
    {
     "data": {
      "text/html": [
       "<style type=\"text/css\">\n",
       "#T_24186_row1_col3 {\n",
       "  color: black;\n",
       "  background-color: gold;\n",
       "}\n",
       "</style>\n",
       "<table id=\"T_24186\">\n",
       "  <thead>\n",
       "    <tr>\n",
       "      <th id=\"T_24186_level0_col0\" class=\"col_heading level0 col0\" >0</th>\n",
       "      <th id=\"T_24186_level0_col1\" class=\"col_heading level0 col1\" >1</th>\n",
       "      <th id=\"T_24186_level0_col2\" class=\"col_heading level0 col2\" >2</th>\n",
       "      <th id=\"T_24186_level0_col3\" class=\"col_heading level0 col3\" >3</th>\n",
       "      <th id=\"T_24186_level0_col4\" class=\"col_heading level0 col4\" >4</th>\n",
       "      <th id=\"T_24186_level0_col5\" class=\"col_heading level0 col5\" ></th>\n",
       "    </tr>\n",
       "  </thead>\n",
       "  <tbody>\n",
       "    <tr>\n",
       "      <td id=\"T_24186_row0_col0\" class=\"data row0 col0\" >7</td>\n",
       "      <td id=\"T_24186_row0_col1\" class=\"data row0 col1\" >8</td>\n",
       "      <td id=\"T_24186_row0_col2\" class=\"data row0 col2\" >5</td>\n",
       "      <td id=\"T_24186_row0_col3\" class=\"data row0 col3\" >2</td>\n",
       "      <td id=\"T_24186_row0_col4\" class=\"data row0 col4\" >-1</td>\n",
       "      <td id=\"T_24186_row0_col5\" class=\"data row0 col5\" >original array</td>\n",
       "    </tr>\n",
       "    <tr>\n",
       "      <td id=\"T_24186_row1_col0\" class=\"data row1 col0\" >7</td>\n",
       "      <td id=\"T_24186_row1_col1\" class=\"data row1 col1\" >15</td>\n",
       "      <td id=\"T_24186_row1_col2\" class=\"data row1 col2\" >20</td>\n",
       "      <td id=\"T_24186_row1_col3\" class=\"data row1 col3\" >22</td>\n",
       "      <td id=\"T_24186_row1_col4\" class=\"data row1 col4\" >21</td>\n",
       "      <td id=\"T_24186_row1_col5\" class=\"data row1 col5\" >mss progress</td>\n",
       "    </tr>\n",
       "  </tbody>\n",
       "</table>\n"
      ],
      "text/plain": [
       "<pandas.io.formats.style.Styler at 0x27cf9428b50>"
      ]
     },
     "metadata": {},
     "output_type": "display_data"
    }
   ],
   "source": [
    "##### ARRAY TO BE CALCULATED IS HERE #####\n",
    "# currently, just randomly generating numbers\n",
    "df = pd.DataFrame(np.random.randint(-10, 10, size=(1, 5)))\n",
    "##########################################\n",
    "\n",
    "mss2 = pd.concat([df, df * 0], ignore_index = True)\n",
    "mss2.iloc[1, 0] = mss2.iloc[0, 0]\n",
    "mss2[''] = ['original array', 'mss progress']\n",
    "\n",
    "rowid = 1\n",
    "maxindex = [0, 0]\n",
    "for i in range(1, mss2.shape[1]-1):\n",
    "    mss2.iloc[1, i] = max(mss2.iloc[0, i], mss2.iloc[0, i] + mss2.iloc[1, i-1])\n",
    "    \n",
    "    if(maxindex[1] < mss2.iloc[1, i]):\n",
    "        maxindex[0], maxindex[1] = i, mss2.iloc[1, i]\n",
    "        \n",
    "    colid = i\n",
    "    temp = mss2.style.apply(style_mss, row = rowid, col = colid, axis = None).hide(axis='index')\n",
    "    display(temp)\n",
    "\n",
    "\n",
    "colid = maxindex[0]\n",
    "rowid = 1\n",
    "color = 'gold'\n",
    "\n",
    "#rowid, colid = mss2.stack().index[np.max(df.values)]\n",
    "temp = mss2.style.apply(style_specific_cell, row = rowid, col = colid, axis = None, c = color).hide(axis='index')\n",
    "display(temp)\n"
   ]
  }
 ],
 "metadata": {
  "kernelspec": {
   "display_name": "Python 3 (ipykernel)",
   "language": "python",
   "name": "python3"
  },
  "language_info": {
   "codemirror_mode": {
    "name": "ipython",
    "version": 3
   },
   "file_extension": ".py",
   "mimetype": "text/x-python",
   "name": "python",
   "nbconvert_exporter": "python",
   "pygments_lexer": "ipython3",
   "version": "3.9.12"
  },
  "vscode": {
   "interpreter": {
    "hash": "287bae7b0f7a7701cfce8ed62d9efb37e335cdeba10ac494acd78ac9525ffa5e"
   }
  }
 },
 "nbformat": 4,
 "nbformat_minor": 2
}
