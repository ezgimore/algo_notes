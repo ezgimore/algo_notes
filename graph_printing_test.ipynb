{
 "cells": [
  {
   "cell_type": "code",
   "execution_count": 25,
   "metadata": {},
   "outputs": [],
   "source": [
    "import networkx as nx\n",
    "import matplotlib.pyplot as plt\n",
    "import numpy as np"
   ]
  },
  {
   "cell_type": "code",
   "execution_count": 26,
   "metadata": {},
   "outputs": [
    {
     "name": "stdout",
     "output_type": "stream",
     "text": [
      "[('a', 'w'), ('b', 'w'), ('c', 'w'), ('d', 'w'), ('e', 'w')]\n",
      "[('b', 'w')]\n"
     ]
    }
   ],
   "source": [
    "nodes = ['a', 'b', 'c', 'd', 'e']\n",
    "\n",
    "adj = { 'a' : ['b'],\n",
    "        'b' : ['c', 'd'],\n",
    "        'c' : ['e']}\n",
    "\n",
    "DG = nx.DiGraph()\n",
    "DG.add_nodes_from([(x, {\"color\": \"w\"}) for x in nodes])\n",
    "DG.add_edges_from([(k, val) for k, vals in adj.items() for val in vals])\n",
    "\n",
    "# print all nodes and their colors\n",
    "print([(x, DG.nodes[x]['color']) for x in DG.nodes])\n",
    "\n",
    "# print all successors and their color for a specific node\n",
    "print([(x, DG.nodes[x]['color']) for x in list(DG.successors('a'))])\n"
   ]
  },
  {
   "cell_type": "code",
   "execution_count": 27,
   "metadata": {},
   "outputs": [],
   "source": [
    "options = {\n",
    "    \"font_size\": 20,\n",
    "    \"node_size\": 1000,\n",
    "    \"node_color\": \"white\",\n",
    "    \"edgecolors\": \"black\",\n",
    "    \"linewidths\": 3,\n",
    "    \"width\": 3,\n",
    "}\n",
    "\n",
    "depth_list = {'a': 0,\n",
    "         'b': 1,\n",
    "         'c': 2,\n",
    "         'd': 2,\n",
    "         'e': 3}\n"
   ]
  },
  {
   "cell_type": "code",
   "execution_count": 28,
   "metadata": {},
   "outputs": [
    {
     "data": {
      "image/png": "[encoded data removed]",
      "text/plain": [
       "<Figure size 432x288 with 1 Axes>"
      ]
     },
     "metadata": {},
     "output_type": "display_data"
    }
   ],
   "source": [
    "# PRINT TOPSORT\n",
    "pos = {}\n",
    "max_depth = max(depth_list.values())\n",
    "\n",
    "for i in range(max_depth + 1):\n",
    "    current_nodes = [x for x in depth_list if depth_list[x] == i]\n",
    "    pos.update({node: (i, index + 0.5) for index, node in enumerate(current_nodes)})\n",
    "\n",
    "nx.draw_networkx(DG, pos, **options)\n",
    "ax = plt.gca()\n",
    "ax.margins(0.20)\n",
    "#plt.axis(\"off\")\n",
    "plt.show()"
   ]
  },
  {
   "cell_type": "code",
   "execution_count": 82,
   "metadata": {},
   "outputs": [],
   "source": [
    "test = nx.DiGraph()\n",
    "l = [['1','2'],['1','3'],['1','4'],['1','5'],['1','6'],['2','7'],['2','8'],['2','9'],['3','10'],['3','11']]\n",
    "test.add_edges_from(l)\n",
    "\n",
    "test.add_nodes_from([(x, {\"color\": \"w\"}) for x in test.nodes])\n",
    "\n",
    "test.nodes['1']['color'] = 'b'\n",
    "test.nodes['2']['color'] = 'g'\n",
    "test.nodes['3']['color'] = 'g'"
   ]
  },
  {
   "cell_type": "code",
   "execution_count": 99,
   "metadata": {},
   "outputs": [
    {
     "data": {
      "image/png": "[encoded data removed]",
      "text/plain": [
       "<Figure size 432x288 with 1 Axes>"
      ]
     },
     "metadata": {},
     "output_type": "display_data"
    }
   ],
   "source": [
    "def print_graph(G, active_edges):\n",
    "    options = {\n",
    "    \"node_size\": 800,\n",
    "    \"edgecolors\": \"silver\",\n",
    "    \"linewidths\": 2,\n",
    "    \"alpha\": 1\n",
    "    }\n",
    "\n",
    "    # topological order\n",
    "    for i, layer in enumerate(nx.topological_generations(G)):\n",
    "        for n in layer:\n",
    "            G.nodes[n][\"layer\"] = i\n",
    "    pos = nx.multipartite_layout(G, subset_key=\"layer\", align=\"horizontal\")\n",
    "    # Flip the layout so the root node is on top\n",
    "    for k in pos:\n",
    "        pos[k][-1] *= -1\n",
    "\n",
    "    \n",
    "    nx.draw_networkx_nodes(G, pos, nodelist=[x for x in test.nodes if test.nodes[x][\"color\"]=='g'], node_color=\"silver\", **options)\n",
    "    nx.draw_networkx_nodes(G, pos, nodelist=[x for x in test.nodes if test.nodes[x][\"color\"]=='b'], node_color=\"black\", **options)\n",
    "    nx.draw_networkx_nodes(G, pos, nodelist=[x for x in test.nodes if test.nodes[x][\"color\"]=='w'], node_color=\"white\", **options)\n",
    "\n",
    "    nx.draw_networkx_edges(G, pos, width=1, alpha=0.5, edge_color=\"black\")\n",
    "    nx.draw_networkx_edges(G, pos, edgelist=active_edges, width=3, alpha=0.5, edge_color=\"red\")\n",
    "\n",
    "    nx.draw_networkx_labels(G, pos, {x: x for x in test.nodes if test.nodes[x][\"color\"]=='b'}, font_size=18, font_color=\"white\")\n",
    "    nx.draw_networkx_labels(G, pos, {x: x for x in test.nodes if test.nodes[x][\"color\"]!='b'}, font_size=18, font_color=\"black\")\n",
    "\n",
    "    ax = plt.gca()\n",
    "    ax.margins(0.20)\n",
    "    plt.show()\n",
    "\n",
    "active_edges = [('1','2'), ('1','3')]\n",
    "print_graph(test, active_edges)"
   ]
  }
 ],
 "metadata": {
  "kernelspec": {
   "display_name": "Python 3.9.12 ('base')",
   "language": "python",
   "name": "python3"
  },
  "language_info": {
   "codemirror_mode": {
    "name": "ipython",
    "version": 3
   },
   "file_extension": ".py",
   "mimetype": "text/x-python",
   "name": "python",
   "nbconvert_exporter": "python",
   "pygments_lexer": "ipython3",
   "version": "3.9.12"
  },
  "orig_nbformat": 4,
  "vscode": {
   "interpreter": {
    "hash": "287bae7b0f7a7701cfce8ed62d9efb37e335cdeba10ac494acd78ac9525ffa5e"
   }
  }
 },
 "nbformat": 4,
 "nbformat_minor": 2
}
